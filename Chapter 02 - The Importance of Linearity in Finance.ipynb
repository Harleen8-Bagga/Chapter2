{
 "cells": [
  {
   "cell_type": "markdown",
   "metadata": {},
   "source": [
    "# ***Harleen Kaur Bagga***"
   ]
  },
  {
   "cell_type": "markdown",
   "metadata": {},
   "source": [
    "# The capital asset pricing model and the security market line"
   ]
  },
  {
   "cell_type": "code",
   "execution_count": 3,
   "metadata": {},
   "outputs": [],
   "source": [
    "\"\"\" \n",
    "Linear regression with SciPy \n",
    "\"\"\"\n",
    "from scipy import stats#Using the stats module of SciPy, we will perform a least squares regression on the CAPM model\n",
    "\n",
    "stock_returns = [0.065, 0.0265, -0.0593, -0.001, 0.0346]\n",
    "mkt_returns = [0.055, -0.09, -0.041, 0.045, 0.022]\n",
    "beta, alpha, r_value, p_value, std_err = \\\n",
    "    stats.linregress(stock_returns, mkt_returns)#returns slope of regression line(beta) ,the correlation function(alpha)\n",
    "    #the p-value for a hypothesis test with null hypothesis of a zero slope(p_value),the standard error of the estimate(std_err)\n",
    "\n"
   ]
  },
  {
   "cell_type": "code",
   "execution_count": 4,
   "metadata": {},
   "outputs": [
    {
     "name": "stdout",
     "output_type": "stream",
     "text": [
      "0.5077431878770808 -0.008481900352462384\n"
     ]
    }
   ],
   "source": [
    "print(beta, alpha)#print slope and correlation function"
   ]
  },
  {
   "cell_type": "markdown",
   "metadata": {},
   "source": [
    "# Multivariate linear regression of factor models"
   ]
  },
  {
   "cell_type": "code",
   "execution_count": 5,
   "metadata": {},
   "outputs": [],
   "source": [
    "\"\"\" \n",
    "Least squares regression with statsmodels \n",
    "\"\"\"\n",
    "import numpy as np#Used for high level Data Indexing processes\n",
    "import statsmodels.api as sm#descriptive statistics and estimation of statistical models\n",
    "\n",
    "# Generate some sample data\n",
    "num_periods = 9\n",
    "all_values = np.array([np.random.random(8) \\\n",
    "                       for i in range(num_periods)])\n",
    "\n",
    "# Filter the data\n",
    "y_values = all_values[:, 0] # First column values as Y\n",
    "x_values = all_values[:, 1:] # All other values as X\n",
    "x_values = sm.add_constant(x_values) # Include the intercept\n",
    "results = sm.OLS(y_values, x_values).fit() # Regress and fit the model"
   ]
  },
  {
   "cell_type": "code",
   "execution_count": 6,
   "metadata": {},
   "outputs": [
    {
     "name": "stdout",
     "output_type": "stream",
     "text": [
      "                            OLS Regression Results                            \n",
      "==============================================================================\n",
      "Dep. Variable:                      y   R-squared:                       0.988\n",
      "Model:                            OLS   Adj. R-squared:                  0.902\n",
      "Method:                 Least Squares   F-statistic:                     11.50\n",
      "Date:                Mon, 28 Jun 2021   Prob (F-statistic):              0.223\n",
      "Time:                        11:09:13   Log-Likelihood:                 18.823\n",
      "No. Observations:                   9   AIC:                            -21.65\n",
      "Df Residuals:                       1   BIC:                            -20.07\n",
      "Df Model:                           7                                         \n",
      "Covariance Type:            nonrobust                                         \n",
      "==============================================================================\n",
      "                 coef    std err          t      P>|t|      [0.025      0.975]\n",
      "------------------------------------------------------------------------------\n",
      "const          1.1722      0.152      7.715      0.082      -0.758       3.103\n",
      "x1            -0.0155      0.503     -0.031      0.980      -6.408       6.377\n",
      "x2             0.4753      0.610      0.779      0.579      -7.278       8.228\n",
      "x3             0.1789      0.362      0.494      0.708      -4.422       4.780\n",
      "x4            -0.9685      0.257     -3.763      0.165      -4.239       2.302\n",
      "x5            -0.4121      0.149     -2.774      0.220      -2.299       1.475\n",
      "x6             0.3316      0.198      1.673      0.343      -2.187       2.850\n",
      "x7            -0.3723      0.251     -1.481      0.378      -3.567       2.823\n",
      "==============================================================================\n",
      "Omnibus:                        0.233   Durbin-Watson:                   0.880\n",
      "Prob(Omnibus):                  0.890   Jarque-Bera (JB):                0.329\n",
      "Skew:                          -0.277   Prob(JB):                        0.848\n",
      "Kurtosis:                       2.245   Cond. No.                         50.3\n",
      "==============================================================================\n",
      "\n",
      "Notes:\n",
      "[1] Standard Errors assume that the covariance matrix of the errors is correctly specified.\n"
     ]
    },
    {
     "name": "stderr",
     "output_type": "stream",
     "text": [
      "C:\\Users\\Harleen\\anaconda3\\lib\\site-packages\\scipy\\stats\\stats.py:1603: UserWarning: kurtosistest only valid for n>=20 ... continuing anyway, n=9\n",
      "  warnings.warn(\"kurtosistest only valid for n>=20 ... continuing \"\n"
     ]
    }
   ],
   "source": [
    "print(results.summary())#summaries of the result"
   ]
  },
  {
   "cell_type": "code",
   "execution_count": 7,
   "metadata": {},
   "outputs": [
    {
     "name": "stdout",
     "output_type": "stream",
     "text": [
      "[ 1.17217015 -0.01545236  0.47528728  0.17890441 -0.96849571 -0.41208327\n",
      "  0.33159978 -0.37227148]\n"
     ]
    }
   ],
   "source": [
    "print(results.params)#display coefficients of interest"
   ]
  },
  {
   "cell_type": "markdown",
   "metadata": {},
   "source": [
    "# Linear optimization"
   ]
  },
  {
   "cell_type": "markdown",
   "metadata": {},
   "source": [
    "## A maximization example with linear programming"
   ]
  },
  {
   "cell_type": "code",
   "execution_count": 8,
   "metadata": {},
   "outputs": [
    {
     "name": "stderr",
     "output_type": "stream",
     "text": [
      "C:\\Users\\Harleen\\anaconda3\\lib\\site-packages\\pulp\\pulp.py:1199: UserWarning: Spaces are not permitted in the name. Converted to '_'\n",
      "  warnings.warn(\"Spaces are not permitted in the name. Converted to '_'\")\n"
     ]
    },
    {
     "data": {
      "text/plain": [
       "1"
      ]
     },
     "execution_count": 8,
     "metadata": {},
     "output_type": "execute_result"
    }
   ],
   "source": [
    "\"\"\" \n",
    "A linear optimization problem with 2 variables\n",
    "\"\"\"\n",
    "import pulp#pulp is to describe optimisation problems as mathematical models.\n",
    "#creates LpVariable to hold the variables of objective function\n",
    "x = pulp.LpVariable('x', lowBound=0)# Create a variable x >= 0\n",
    "y = pulp.LpVariable('y', lowBound=0)#Create a variable y>=0\n",
    "\n",
    "problem = pulp.LpProblem( \n",
    "    'A simple maximization objective', \n",
    "    pulp.LpMaximize)# Create a LP Maximization problem\n",
    "problem += 3*x + 2*y, 'The objective function'\n",
    "# Constraints:\n",
    "problem += 2*x + y <= 100, '1st constraint'\n",
    "problem += x + y <= 80, '2nd constraint'\n",
    "problem += x <= 40, '3rd constraint'\n",
    "problem.solve()#begin performing linear optimization"
   ]
  },
  {
   "cell_type": "code",
   "execution_count": 9,
   "metadata": {},
   "outputs": [
    {
     "name": "stdout",
     "output_type": "stream",
     "text": [
      "Maximization Results:\n",
      "x = 20.0\n",
      "y = 60.0\n"
     ]
    }
   ],
   "source": [
    "print(\"Maximization Results:\")\n",
    "for variable in problem.variables():\n",
    "    print(variable.name, '=', variable.varValue)#each variable value is printed\n",
    "    #the result shows that maximum value of 180 is possible when the value of x is 20 and value of y is 60"
   ]
  },
  {
   "cell_type": "markdown",
   "metadata": {},
   "source": [
    "## A minimization example with integer programming"
   ]
  },
  {
   "cell_type": "code",
   "execution_count": 10,
   "metadata": {},
   "outputs": [],
   "source": [
    "\"\"\" \n",
    "An example of implementing an integer \n",
    "programming model with binary conditions \n",
    "\"\"\"\n",
    "import pulp#pulp is to describe optimisation problems as mathematical models.\n",
    "\n",
    "dealers = ['X', 'Y', 'Z']#dealers variable contains dictionary identifier which will be used as to rference both dictionary and list\n",
    "variable_costs = {'X': 500, 'Y': 350, 'Z': 450}#contract cost\n",
    "fixed_costs = {'X': 4000, 'Y': 2000, 'Z': 6000}#fixed fees charge of each dealer\n",
    "\n",
    "# Define PulP LPvariables to solve:\n",
    "quantities = pulp.LpVariable.dicts('quantity', \n",
    "                                   dealers, #dealers used as reference\n",
    "                                   lowBound=0,#lower bound 0 for quantities variable\n",
    "                                   cat=pulp.LpInteger)#quantities values treated as integer objects\n",
    "is_orders = pulp.LpVariable.dicts('orders', \n",
    "                                  dealers,#dealers used as reference\n",
    "                                  cat=pulp.LpBinary)#is_orders values treated as binary objects\n",
    " #the value of is_orders indicate whether one should enter into transaction with a dealer"
   ]
  },
  {
   "cell_type": "code",
   "execution_count": 11,
   "metadata": {},
   "outputs": [
    {
     "ename": "TypeError",
     "evalue": "Non-constant expressions cannot be multiplied",
     "output_type": "error",
     "traceback": [
      "\u001b[1;31m---------------------------------------------------------------------------\u001b[0m",
      "\u001b[1;31mTypeError\u001b[0m                                 Traceback (most recent call last)",
      "\u001b[1;32m<ipython-input-11-a9349bbb46a4>\u001b[0m in \u001b[0;36m<module>\u001b[1;34m\u001b[0m\n\u001b[0;32m      6\u001b[0m model = pulp.LpProblem('A cost minimization problem',\n\u001b[0;32m      7\u001b[0m                        pulp.LpMinimize)\n\u001b[1;32m----> 8\u001b[1;33m model += sum([(variable_costs[i] * \\\n\u001b[0m\u001b[0;32m      9\u001b[0m                \u001b[0mquantities\u001b[0m\u001b[1;33m[\u001b[0m\u001b[0mi\u001b[0m\u001b[1;33m]\u001b[0m \u001b[1;33m+\u001b[0m\u001b[0;31m \u001b[0m\u001b[0;31m\\\u001b[0m\u001b[1;33m\u001b[0m\u001b[1;33m\u001b[0m\u001b[0m\n\u001b[0;32m     10\u001b[0m                fixed_costs[i])*is_orders[i] \\\n",
      "\u001b[1;32m<ipython-input-11-a9349bbb46a4>\u001b[0m in \u001b[0;36m<listcomp>\u001b[1;34m(.0)\u001b[0m\n\u001b[0;32m      6\u001b[0m model = pulp.LpProblem('A cost minimization problem',\n\u001b[0;32m      7\u001b[0m                        pulp.LpMinimize)\n\u001b[1;32m----> 8\u001b[1;33m model += sum([(variable_costs[i] * \\\n\u001b[0m\u001b[0;32m      9\u001b[0m                \u001b[0mquantities\u001b[0m\u001b[1;33m[\u001b[0m\u001b[0mi\u001b[0m\u001b[1;33m]\u001b[0m \u001b[1;33m+\u001b[0m\u001b[0;31m \u001b[0m\u001b[0;31m\\\u001b[0m\u001b[1;33m\u001b[0m\u001b[1;33m\u001b[0m\u001b[0m\n\u001b[0;32m     10\u001b[0m                fixed_costs[i])*is_orders[i] \\\n",
      "\u001b[1;32m~\\anaconda3\\lib\\site-packages\\pulp\\pulp.py\u001b[0m in \u001b[0;36m__mul__\u001b[1;34m(self, other)\u001b[0m\n\u001b[0;32m    836\u001b[0m                         \u001b[0me\u001b[0m\u001b[1;33m[\u001b[0m\u001b[0mv\u001b[0m\u001b[1;33m]\u001b[0m \u001b[1;33m=\u001b[0m \u001b[0mc\u001b[0m \u001b[1;33m*\u001b[0m \u001b[0mx\u001b[0m\u001b[1;33m\u001b[0m\u001b[1;33m\u001b[0m\u001b[0m\n\u001b[0;32m    837\u001b[0m         \u001b[1;32melif\u001b[0m \u001b[0misinstance\u001b[0m\u001b[1;33m(\u001b[0m\u001b[0mother\u001b[0m\u001b[1;33m,\u001b[0m\u001b[0mLpVariable\u001b[0m\u001b[1;33m)\u001b[0m\u001b[1;33m:\u001b[0m\u001b[1;33m\u001b[0m\u001b[1;33m\u001b[0m\u001b[0m\n\u001b[1;32m--> 838\u001b[1;33m             \u001b[1;32mreturn\u001b[0m \u001b[0mself\u001b[0m \u001b[1;33m*\u001b[0m \u001b[0mLpAffineExpression\u001b[0m\u001b[1;33m(\u001b[0m\u001b[0mother\u001b[0m\u001b[1;33m)\u001b[0m\u001b[1;33m\u001b[0m\u001b[1;33m\u001b[0m\u001b[0m\n\u001b[0m\u001b[0;32m    839\u001b[0m         \u001b[1;32melse\u001b[0m\u001b[1;33m:\u001b[0m\u001b[1;33m\u001b[0m\u001b[1;33m\u001b[0m\u001b[0m\n\u001b[0;32m    840\u001b[0m             \u001b[1;32mif\u001b[0m \u001b[0mother\u001b[0m \u001b[1;33m!=\u001b[0m \u001b[1;36m0\u001b[0m\u001b[1;33m:\u001b[0m\u001b[1;33m\u001b[0m\u001b[1;33m\u001b[0m\u001b[0m\n",
      "\u001b[1;32m~\\anaconda3\\lib\\site-packages\\pulp\\pulp.py\u001b[0m in \u001b[0;36m__mul__\u001b[1;34m(self, other)\u001b[0m\n\u001b[0;32m    824\u001b[0m             \u001b[1;32mif\u001b[0m \u001b[0mlen\u001b[0m\u001b[1;33m(\u001b[0m\u001b[0mother\u001b[0m\u001b[1;33m)\u001b[0m\u001b[1;33m:\u001b[0m\u001b[1;33m\u001b[0m\u001b[1;33m\u001b[0m\u001b[0m\n\u001b[0;32m    825\u001b[0m                 \u001b[1;32mif\u001b[0m \u001b[0mlen\u001b[0m\u001b[1;33m(\u001b[0m\u001b[0mself\u001b[0m\u001b[1;33m)\u001b[0m\u001b[1;33m:\u001b[0m\u001b[1;33m\u001b[0m\u001b[1;33m\u001b[0m\u001b[0m\n\u001b[1;32m--> 826\u001b[1;33m                     \u001b[1;32mraise\u001b[0m \u001b[0mTypeError\u001b[0m\u001b[1;33m(\u001b[0m\u001b[1;34m\"Non-constant expressions cannot be multiplied\"\u001b[0m\u001b[1;33m)\u001b[0m\u001b[1;33m\u001b[0m\u001b[1;33m\u001b[0m\u001b[0m\n\u001b[0m\u001b[0;32m    827\u001b[0m                 \u001b[1;32melse\u001b[0m\u001b[1;33m:\u001b[0m\u001b[1;33m\u001b[0m\u001b[1;33m\u001b[0m\u001b[0m\n\u001b[0;32m    828\u001b[0m                     \u001b[0mc\u001b[0m \u001b[1;33m=\u001b[0m \u001b[0mself\u001b[0m\u001b[1;33m.\u001b[0m\u001b[0mconstant\u001b[0m\u001b[1;33m\u001b[0m\u001b[1;33m\u001b[0m\u001b[0m\n",
      "\u001b[1;31mTypeError\u001b[0m: Non-constant expressions cannot be multiplied"
     ]
    }
   ],
   "source": [
    "\"\"\"\n",
    "This is an example of implementing an integer programming model\n",
    "with binary variables the wrong way.\n",
    "\"\"\"\n",
    "# Initialize the model with constraints\n",
    "model = pulp.LpProblem('A cost minimization problem',\n",
    "                       pulp.LpMinimize)\n",
    "model += sum([(variable_costs[i] * \\\n",
    "               quantities[i] + \\\n",
    "               fixed_costs[i])*is_orders[i] \\\n",
    "              for i in dealers]), 'Minimize portfolio cost'#this is where things goes wrong \n",
    "                                    #we are trying to multiply two variables quantities[i] and is_order[i] \n",
    "                                  #mulptiplication of two variable expressions not valid\n",
    "model += sum([quantities[i] for i in dealers]) == 150\\\n",
    "    , 'Total contracts required'\n",
    "model += 30 <= quantities['X'] <= 100\\\n",
    "    , 'Boundary of total volume of X'\n",
    "model += 30 <= quantities['Y'] <= 90\\\n",
    "    , 'Boundary of total volume of Y'\n",
    "model += 30 <= quantities['Z'] <= 70\\\n",
    "    , 'Boundary of total volume of Z'\n",
    "model.solve()  # You will get an error running this code!"
   ]
  },
  {
   "cell_type": "code",
   "execution_count": 12,
   "metadata": {},
   "outputs": [
    {
     "data": {
      "text/plain": [
       "1"
      ]
     },
     "execution_count": 12,
     "metadata": {},
     "output_type": "execute_result"
    }
   ],
   "source": [
    "\"\"\"\n",
    "This is an example of implementing an \n",
    "IP model with binary variables the correct way.\n",
    "\"\"\"\n",
    "# Initialize the model with constarints\n",
    "#the above problem can be solved with some intelligent mainpulation\n",
    "model = pulp.LpProblem('A cost minimization problem',\n",
    "                       pulp.LpMinimize)\n",
    "#now we multiply is_orders only with fixed_cost and not with quantities\n",
    "#instead we write quantities as a function of is_orders \n",
    "model += sum(\n",
    "    [variable_costs[i]*quantities[i] + \\\n",
    "         fixed_costs[i]*is_orders[i] for i in dealers])\\\n",
    "    , 'Minimize portfolio cost'\n",
    "model += sum([quantities[i] for i in dealers]) == 150\\\n",
    "    ,  'Total contracts required'\n",
    "model += is_orders['X']*30 <= quantities['X'] <= \\\n",
    "    is_orders['X']*100, 'Boundary of total volume of X'\n",
    "model += is_orders['Y']*30 <= quantities['Y'] <= \\\n",
    "    is_orders['Y']*90, 'Boundary of total volume of Y'\n",
    "model += is_orders['Z']*30 <= quantities['Z'] <= \\\n",
    "    is_orders['Z']*70, 'Boundary of total volume of Z'\n",
    "model.solve()#your code will be executed successfully"
   ]
  },
  {
   "cell_type": "code",
   "execution_count": 13,
   "metadata": {},
   "outputs": [
    {
     "name": "stdout",
     "output_type": "stream",
     "text": [
      "Minimization Results:\n",
      "orders_X = 0.0\n",
      "orders_Y = 1.0\n",
      "orders_Z = 1.0\n",
      "quantity_X = 0.0\n",
      "quantity_Y = 90.0\n",
      "quantity_Z = 60.0\n",
      "Total cost: 66500.0\n"
     ]
    }
   ],
   "source": [
    "print('Minimization Results:')\n",
    "for variable in model.variables():\n",
    "    print(variable, '=', variable.varValue)#print the variables used in computation \n",
    "             #values of is_orders corresponding to dealers reference and value of quantities corresponding to dealers reference\n",
    "\n",
    "print('Total cost:',  pulp.value(model.objective))#print the Minimized cost of above code"
   ]
  },
  {
   "cell_type": "markdown",
   "metadata": {},
   "source": [
    "# Solving linear equations using matrices"
   ]
  },
  {
   "cell_type": "code",
   "execution_count": 14,
   "metadata": {},
   "outputs": [],
   "source": [
    "\"\"\" \n",
    "Linear algebra with NumPy matrices \n",
    "\"\"\"\n",
    "import numpy as np#Numpy provides fast mathematical function processing\n",
    "\n",
    "A = np.array([[2, 1, 1],[1, 3, 2],[1, 0, 0]])# initialized with 3x3 square matrix(2-D array)\n",
    "B = np.array([4, 5, 6])#input data of right hand side"
   ]
  },
  {
   "cell_type": "markdown",
   "metadata": {},
   "source": [
    "Use the `linalg.solve` function of NumPy to solve a system of linear scalar\n",
    "equations:"
   ]
  },
  {
   "cell_type": "code",
   "execution_count": 15,
   "metadata": {},
   "outputs": [
    {
     "name": "stdout",
     "output_type": "stream",
     "text": [
      "[  6.  15. -23.]\n"
     ]
    }
   ],
   "source": [
    "print(np.linalg.solve(A, B))#solve the equation AX=B using linalg.solve numpy library"
   ]
  },
  {
   "cell_type": "markdown",
   "metadata": {},
   "source": [
    "# The LU decomposition"
   ]
  },
  {
   "cell_type": "code",
   "execution_count": 16,
   "metadata": {},
   "outputs": [],
   "source": [
    " \"\"\" \n",
    "LU decomposition with SciPy \n",
    "\"\"\"    \n",
    "\"\"\"\n",
    "LU decomposition decomposes matrix into a lower triangular matrix L and upper triangular matrix U\n",
    "a lower triangular matrix has values in lower triangle with remaining upper triangle having value 0\n",
    "an upper triangular matrix  has values in upper triangle with remaining lower triangle having value 0\n",
    "A=LU \n",
    "a b c     l11  0     0          u11 u12 u13\n",
    "d e f   = l21  l22   0      x   u21 u22  0\n",
    "g h i     l31  l32  l33         u31  0   0\n",
    "\"\"\"    \n",
    "import numpy as np#Used for high level Data Indexing processes\n",
    "import scipy.linalg as linalg#library of NumPy to solve a system of linear scalar equations\n",
    "\n",
    "\n",
    "# Define A and B\n",
    "A = np.array([\n",
    "    [2., 1., 1.],\n",
    "    [1., 3., 2.],\n",
    "    [1., 0., 0.]])#3x 3 square matrix initialized which will be decomposed into lower triangular and upper triangular matrix\n",
    "B = np.array([4., 5., 6.])#input data for right hand side\n",
    "\n",
    "# Perform LU decompositiopn\n",
    "LU = linalg.lu_factor(A)#gives LU variable as the pivoted LU decomposition of matrix  A \n",
    "x = linalg.lu_solve(LU, B)#pivoted LU decomposition soved with matrix B"
   ]
  },
  {
   "cell_type": "code",
   "execution_count": 17,
   "metadata": {},
   "outputs": [
    {
     "name": "stdout",
     "output_type": "stream",
     "text": [
      "[  6.  15. -23.]\n"
     ]
    }
   ],
   "source": [
    "print(x)#print the solution output"
   ]
  },
  {
   "cell_type": "code",
   "execution_count": 18,
   "metadata": {},
   "outputs": [
    {
     "name": "stdout",
     "output_type": "stream",
     "text": [
      "P=\n",
      " [[1. 0. 0.]\n",
      " [0. 1. 0.]\n",
      " [0. 0. 1.]]\n",
      "L=\n",
      " [[ 1.   0.   0. ]\n",
      " [ 0.5  1.   0. ]\n",
      " [ 0.5 -0.2  1. ]]\n",
      "U=\n",
      " [[ 2.   1.   1. ]\n",
      " [ 0.   2.5  1.5]\n",
      " [ 0.   0.  -0.2]]\n"
     ]
    }
   ],
   "source": [
    "import scipy#Algorithm library used for high level mathematics, plotting, and statistics\n",
    "\n",
    "P, L, U = scipy.linalg.lu(A)#lu function of linalg library used for LU decomposition\n",
    "#lu decomposes matrix into three variables permautation matrix,lower triangular matrix,and upper triangular matrix \n",
    "print('P=\\n', P)#permutation matrix\n",
    "print('L=\\n', L)#lower traingular matrix\n",
    "print('U=\\n', U)#upper triangular matrix"
   ]
  },
  {
   "cell_type": "markdown",
   "metadata": {},
   "source": [
    "# The Cholesky decomposition"
   ]
  },
  {
   "cell_type": "code",
   "execution_count": 19,
   "metadata": {},
   "outputs": [],
   "source": [
    "\"\"\" \n",
    "Cholesky decomposition with NumPy \n",
    "\"\"\"\n",
    "\"\"\"\n",
    "Cholesky Decomposition is twice as efficient as LU decomposition.It occupies less memory than LU decomposition.\n",
    "\n",
    "The necessary condition for Cholesky decomposition is that matrix should be hermitian  \n",
    "\n",
    "\"conjugate of lower triangular matrix=conjugate transpose of lower triangualr matrix\".\n",
    "\n",
    "Matrix is decomposed into L(lower triangular Matrix) and L*( conjugate transpose of lower triangular Matrix)\n",
    "A=L.L*\n",
    "\n",
    "\n",
    "\n",
    "\"\"\"\n",
    "import numpy as np#Numpy provides fast mathematical function processing\n",
    "\n",
    "A = np.array([\n",
    "    [10., -1., 2., 0.],\n",
    "    [-1., 11., -1., 3.],\n",
    "    [2., -1., 10., -1.],\n",
    "    [0., 3., -1., 8.]])#4x4 hermitian square matrix initialized \n",
    "B = np.array([6., 25., -11., 15.])#input data of right hand side\n",
    "\n",
    "L = np.linalg.cholesky(A)#cholesky function computes the lower triangular matrix"
   ]
  },
  {
   "cell_type": "code",
   "execution_count": 20,
   "metadata": {},
   "outputs": [
    {
     "name": "stdout",
     "output_type": "stream",
     "text": [
      "[[ 3.16227766  0.          0.          0.        ]\n",
      " [-0.31622777  3.3015148   0.          0.        ]\n",
      " [ 0.63245553 -0.24231301  3.08889696  0.        ]\n",
      " [ 0.          0.9086738  -0.25245792  2.6665665 ]]\n"
     ]
    }
   ],
   "source": [
    "print(L)#print the lower triangular matrix"
   ]
  },
  {
   "cell_type": "code",
   "execution_count": 21,
   "metadata": {},
   "outputs": [
    {
     "name": "stdout",
     "output_type": "stream",
     "text": [
      "[[10. -1.  2.  0.]\n",
      " [-1. 11. -1.  3.]\n",
      " [ 2. -1. 10. -1.]\n",
      " [ 0.  3. -1.  8.]]\n"
     ]
    }
   ],
   "source": [
    "print(np.dot(L, L.T.conj()))  # A=L.L* "
   ]
  },
  {
   "cell_type": "code",
   "execution_count": 22,
   "metadata": {},
   "outputs": [],
   "source": [
    "y = np.linalg.solve(L, B)  # L.L*.x=B; When L*.x=y, then L.y=B"
   ]
  },
  {
   "cell_type": "code",
   "execution_count": 23,
   "metadata": {},
   "outputs": [],
   "source": [
    "x = np.linalg.solve(L.T.conj(), y)  # x=L*'.y"
   ]
  },
  {
   "cell_type": "code",
   "execution_count": 24,
   "metadata": {},
   "outputs": [
    {
     "name": "stdout",
     "output_type": "stream",
     "text": [
      "[ 1.  2. -1.  1.]\n"
     ]
    }
   ],
   "source": [
    "print(x) #print  the value of computed x"
   ]
  },
  {
   "cell_type": "code",
   "execution_count": 25,
   "metadata": {},
   "outputs": [
    {
     "name": "stdout",
     "output_type": "stream",
     "text": [
      "[[  6.]\n",
      " [ 25.]\n",
      " [-11.]\n",
      " [ 15.]]\n"
     ]
    }
   ],
   "source": [
    "print(np.mat(A) * np.mat(x).T)  # B=Ax"
   ]
  },
  {
   "cell_type": "markdown",
   "metadata": {},
   "source": [
    "# The QR decomposition"
   ]
  },
  {
   "cell_type": "code",
   "execution_count": 26,
   "metadata": {},
   "outputs": [],
   "source": [
    "\"\"\" \n",
    "QR decomposition with scipy \n",
    "\"\"\"\n",
    "import numpy as np#Numpy provides fast mathematical function processing\n",
    "import scipy.linalg as linalg#library of NumPy to solve a system of linear scalar equations\n",
    "\n",
    "\n",
    "A = np.array([\n",
    "    [2., 1., 1.],\n",
    "    [1., 3., 2.],\n",
    "    [1., 0., 0]])#3x 3 square matrix defined which will be decomposed into lower triangular and upper triangular matrix\n",
    "B = np.array([4., 5., 6.])#input data of right hand side\n",
    "\n",
    "Q, R = scipy.linalg.qr(A)  # QR decomposition\n",
    "y = np.dot(Q.T, B)  # Let y=Q'.B\n",
    "x = scipy.linalg.solve(R, y)  # Solve Rx=y"
   ]
  },
  {
   "cell_type": "code",
   "execution_count": 27,
   "metadata": {},
   "outputs": [
    {
     "name": "stdout",
     "output_type": "stream",
     "text": [
      "[  6.  15. -23.]\n"
     ]
    }
   ],
   "source": [
    "print(x)#print the computed value of x"
   ]
  },
  {
   "cell_type": "markdown",
   "metadata": {},
   "source": [
    "# Solving with other matrix algebra methods"
   ]
  },
  {
   "cell_type": "markdown",
   "metadata": {},
   "source": [
    "## The Jacobi method"
   ]
  },
  {
   "cell_type": "code",
   "execution_count": 28,
   "metadata": {},
   "outputs": [],
   "source": [
    "\"\"\"\n",
    "Solve Ax=B with the Jacobi method \n",
    "A can be decomposed into a \n",
    "diagonal component D and remainder R such that A =D+R\n",
    "\n",
    "\"\"\"\n",
    "import numpy as np\n",
    "\n",
    "def jacobi(A, B, n, tol=1e-10):\n",
    "    # Initializes x with zeroes with same shape and type as B\n",
    "    x = np.zeros_like(B)\n",
    "   #Update x_new with zeroes such that they have same shape and type as x\n",
    "    for iter_count in range(n):\n",
    "        x_new = np.zeros_like(x)\n",
    "        for i in range(A.shape[0]):\n",
    "            s1 = np.dot(A[i, :i], x[:i])\n",
    "            s2 = np.dot(A[i, i + 1:], x[i + 1:])\n",
    "            x_new[i] = (B[i] - s1 - s2) / A[i, i]\n",
    "\n",
    "        if np.allclose(x, x_new, tol):\n",
    "            break\n",
    "\n",
    "        x = x_new# x_new assigned to x\n",
    "\n",
    "    return x"
   ]
  },
  {
   "cell_type": "code",
   "execution_count": 29,
   "metadata": {},
   "outputs": [],
   "source": [
    "A = np.array([\n",
    "    [10., -1., 2., 0.], \n",
    "    [-1., 11., -1., 3.], \n",
    "    [2., -1., 10., -1.], \n",
    "    [0.0, 3., -1., 8.]])#4x4 square matrix  initilaized\n",
    "B = np.array([6., 25., -11., 15.])#input data of right hand side\n",
    "n = 25#initialize n value as 25"
   ]
  },
  {
   "cell_type": "code",
   "execution_count": 30,
   "metadata": {},
   "outputs": [
    {
     "name": "stdout",
     "output_type": "stream",
     "text": [
      "x = [ 1.  2. -1.  1.]\n"
     ]
    }
   ],
   "source": [
    "x = jacobi(A, B, n)#call jacobi function\n",
    "print('x', '=', x)#print the computed value of x"
   ]
  },
  {
   "cell_type": "markdown",
   "metadata": {},
   "source": [
    "# The Gauss-Seidel method"
   ]
  },
  {
   "cell_type": "code",
   "execution_count": 31,
   "metadata": {},
   "outputs": [],
   "source": [
    "\"\"\" \n",
    "Solve Ax=B with the Gauss-Seidel method \n",
    "\"\"\"\n",
    "import numpy as np#Numpy provides fast mathematical function processing\n",
    "\n",
    "\n",
    "def gauss(A, B, n, tol=1e-10):\n",
    "    L = np.tril(A)  # returns the lower triangular matrix of A\n",
    "    U = A-L  # decompose A = L + U\n",
    "    L_inv = np.linalg.inv(L)#compute the inverse of L\n",
    "    x = np.zeros_like(B)#x is in\n",
    "\n",
    "    for i in range(n):\n",
    "        Ux = np.dot(U, x)#U.x\n",
    "        x_new = np.dot(L_inv, B - Ux)#L_inv.(B-Ux)\n",
    "\n",
    "        if np.allclose(x, x_new, tol):\n",
    "            break\n",
    "\n",
    "        x = x_new\n",
    "\n",
    "    return x"
   ]
  },
  {
   "cell_type": "code",
   "execution_count": 32,
   "metadata": {},
   "outputs": [],
   "source": [
    "A = np.array([\n",
    "    [10., -1., 2., 0.], \n",
    "    [-1., 11., -1., 3.], \n",
    "    [2., -1., 10., -1.], \n",
    "    [0.0, 3., -1., 8.]])#4x4 square matrix  initilaized\n",
    "B = np.array([6., 25., -11., 15.])#input data of right hand side\n",
    "n = 100#initialize n value as 25\n",
    "x = gauss(A, B, n)#gauss function called"
   ]
  },
  {
   "cell_type": "code",
   "execution_count": 33,
   "metadata": {},
   "outputs": [
    {
     "name": "stdout",
     "output_type": "stream",
     "text": [
      "x = [ 1.  2. -1.  1.]\n"
     ]
    }
   ],
   "source": [
    "print('x', '=', x)#print the computed value of x"
   ]
  },
  {
   "cell_type": "code",
   "execution_count": null,
   "metadata": {},
   "outputs": [],
   "source": []
  },
  {
   "cell_type": "code",
   "execution_count": null,
   "metadata": {},
   "outputs": [],
   "source": []
  },
  {
   "cell_type": "code",
   "execution_count": null,
   "metadata": {},
   "outputs": [],
   "source": []
  },
  {
   "cell_type": "code",
   "execution_count": null,
   "metadata": {},
   "outputs": [],
   "source": []
  }
 ],
 "metadata": {
  "kernelspec": {
   "display_name": "Python 3",
   "language": "python",
   "name": "python3"
  },
  "language_info": {
   "codemirror_mode": {
    "name": "ipython",
    "version": 3
   },
   "file_extension": ".py",
   "mimetype": "text/x-python",
   "name": "python",
   "nbconvert_exporter": "python",
   "pygments_lexer": "ipython3",
   "version": "3.8.5"
  }
 },
 "nbformat": 4,
 "nbformat_minor": 2
}
